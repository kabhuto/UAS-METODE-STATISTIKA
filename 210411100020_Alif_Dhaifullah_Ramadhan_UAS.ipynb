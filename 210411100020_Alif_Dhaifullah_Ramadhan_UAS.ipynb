{
  "cells": [
    {
      "cell_type": "markdown",
      "metadata": {
        "id": "qattwYIGM_LK"
      },
      "source": [
        "# UJIAN AKHIR SEMESTER \n",
        "# METODE STATISTIKA\n",
        "\n",
        "Nama : ALIF DHAIFULLAH RAMADHAN\n",
        "\n",
        "NIM : 210411100020\n",
        "\n",
        "Prodi : Teknik Informatika\n",
        "\n",
        "Kelas : IF D"
      ]
    },
    {
      "cell_type": "markdown",
      "metadata": {
        "id": "fYdW8leLM_LT"
      },
      "source": [
        "## 1. Tulis pernyataan : “ Saya menyatakan bahwa UAS ini saya kerjakan sendiri”\n",
        "Saya menyatakan bahwa UAS ini saya kerjakan sendiri\n",
        "\n",
        "## 2. Data berikut \n",
        "![image.png](attachment:image.png)"
      ]
    },
    {
      "cell_type": "markdown",
      "metadata": {
        "id": "VUyN58yzM_LV"
      },
      "source": [
        "#### a.\tEstimasi rata-rata nilai statistik sesungguhnya (populasi) dengan tingkat kepercayaan 99 persen\n",
        "#### Untuk sampel besar (n > 30)\n",
        "rumus :\n",
        "![image.png](attachment:image.png)\n",
        "\n",
        "* Nilai duga µ adalah x = mean = 53,9\n",
        "* Nilai dapat diduga dengan s = 0,3 (n ≥ 30)\n",
        "* Selang kepercayaan 99% (α = 1% = 0,01)\n",
        "* Nilai z = 0,005 (α/2) = 2,57\n",
        "\n",
        "![image.png](attachment:image.png)\n",
        "= 54,6 < µ < 54,1"
      ]
    },
    {
      "cell_type": "markdown",
      "metadata": {
        "id": "NpAGMEE7M_LW"
      },
      "source": [
        "#### b. Hitung standard deviasi\n",
        "Standard deviasi atau simpangan baku adalah suatu nilai yang digunakan dalam menentukan persebaran data pada suatu sampel dan melihat seberapa dekat data-data tersebut dengan nilai mean.\n",
        "\n",
        "Langkah-langkah menghitung standard deviasi\n",
        "1. Menghitung mean/rata-rata\n",
        "2. Menghitung nilai varian tiap data\n",
        "nilai varian = (tiap data - rata-rata)^2\n",
        "3. Menghitung simpangan bakunya dengan meng-akarkuadrat-kan nilai varian"
      ]
    },
    {
      "cell_type": "code",
      "execution_count": null,
      "metadata": {
        "id": "z_U8KgvtM_LX",
        "outputId": "c34962e0-15e2-4fae-8f5b-18ebb538dacb"
      },
      "outputs": [
        {
          "name": "stdout",
          "output_type": "stream",
          "text": [
            "Data =  [50, 58, 43, 64, 47, 50, 56, 47, 60, 64]\n",
            "\n",
            "=====Nilai Rata-rata=====\n",
            "Mean = (50 + 58 + 43 + 64 + 47 + 50 + 56 + 47 + 60 + 64) / 10\n",
            "Mean = 53.9\n",
            "\n",
            "=====Nilai Varian=====\n",
            "(50 - 53.9) ^ 2 = 15.209999999999988\n",
            "(58 - 53.9) ^ 2 = 16.810000000000013\n",
            "(43 - 53.9) ^ 2 = 118.80999999999997\n",
            "(64 - 53.9) ^ 2 = 102.01000000000003\n",
            "(47 - 53.9) ^ 2 = 47.60999999999998\n",
            "(50 - 53.9) ^ 2 = 15.209999999999988\n",
            "(56 - 53.9) ^ 2 = 4.410000000000006\n",
            "(47 - 53.9) ^ 2 = 47.60999999999998\n",
            "(60 - 53.9) ^ 2 = 37.210000000000015\n",
            "(64 - 53.9) ^ 2 = 102.01000000000003\n",
            "\n",
            "total = 15.209999999999988 + 16.810000000000013 + 118.80999999999997 + 102.01000000000003 + 47.60999999999998 + 15.209999999999988 + 4.410000000000006 + 47.60999999999998 + 37.210000000000015 + 102.01000000000003\n",
            "total = 506.90000000000003\n",
            "\n",
            "varian = 506.90000000000003 / (9)\n",
            "varian = 56.32222222222222\n",
            "\n",
            "===== Simpangan Baku =====\n",
            "standard deviasi = akar kuadrat dari varian\n",
            "standard deviasi = akar kuadrat(56.32222222222222)\n",
            "standard deviasi = 7.504813270310076\n"
          ]
        }
      ],
      "source": [
        "import statistics\n",
        "data=[50,58,43,64,47,50,56,47,60,64]\n",
        "print('Data = ',data)\n",
        "\n",
        "print('\\n=====Nilai Rata-rata=====')\n",
        "rata = statistics.mean(data)\n",
        "print(f\"Mean = ({' + '.join(f'{x}' for x in data)}) / {len(data)}\")\n",
        "print(f'Mean = {rata}')\n",
        "\n",
        "print('\\n=====Nilai Varian=====')\n",
        "list_varian = []\n",
        "for bilangan in data:\n",
        "  item = (bilangan - rata) ** 2\n",
        "  list_varian.append(item)\n",
        "\n",
        "  print(f'({bilangan} - {rata}) ^ 2 = {item}')\n",
        "\n",
        "varian = sum(list_varian) / (len(data) - 1)\n",
        "\n",
        "print('\\ntotal =', ' + '.join(f'{item}' for item in list_varian))\n",
        "print('total =', sum(list_varian))\n",
        "\n",
        "print(f'\\nvarian = {sum(list_varian)} / ({len(data) - 1})')\n",
        "print(f'varian = {varian}')\n",
        "\n",
        "simpangan_baku = statistics.sqrt(varian)\n",
        "print('\\n===== Simpangan Baku =====')\n",
        "print('standard deviasi = akar kuadrat dari varian')\n",
        "print(f'standard deviasi = akar kuadrat({varian})')\n",
        "print(f'standard deviasi = {simpangan_baku}')"
      ]
    },
    {
      "cell_type": "markdown",
      "metadata": {
        "id": "d-FZwWBuM_Lb"
      },
      "source": [
        "#### c.\tHitung Skewness dan Kurtosis\n",
        "Skewness merupakan statistik yang digunakan dalam memberikan gambaran distribusi data apakah miring ke kiri, ke kanan atau simetris.\n",
        "\n",
        "Kurtosis merupakan statistik yang digunakan dalam memberikan gambaran apakah distribusi data cenderung rata atau runcing.\n",
        "\n"
      ]
    },
    {
      "cell_type": "code",
      "execution_count": null,
      "metadata": {
        "id": "WBALY9cqM_Lc",
        "outputId": "af66d0c4-0bc6-40a1-839d-51dc902b135d"
      },
      "outputs": [
        {
          "name": "stdout",
          "output_type": "stream",
          "text": [
            "Data =  [50, 58, 43, 64, 47, 50, 56, 47, 60, 64]\n",
            "Skewness: 0.08176290963037283\n",
            "Kurtosis: -1.380579722068635\n"
          ]
        }
      ],
      "source": [
        "from scipy.stats import kurtosis, skew\n",
        "data=[50,58,43,64,47,50,56,47,60,64]\n",
        "print('Data = ',data)\n",
        "\n",
        "sk = skew(data)\n",
        "kr = kurtosis(data)\n",
        "print('Skewness: {}'.format(sk))\n",
        "print('Kurtosis: {}'.format(kr))\n"
      ]
    },
    {
      "cell_type": "markdown",
      "metadata": {
        "id": "K9-t37w5M_Ld"
      },
      "source": [
        "## 3.  Dari data berikut  Tentukan nilai y pada data 13 dengan menggunakan metode K-NN regresi\n",
        "![image.png](attachment:image.png)"
      ]
    },
    {
      "cell_type": "markdown",
      "metadata": {
        "id": "mm5NLt8ZM_Lf"
      },
      "source": [
        "## 4. Rata-rata IP sampel acak 36 mahasiswa tingkat S-1 adalah 2.6. Hitung selang kepercayaan 95%  untuk rata-rata IP semua mahasiswa S-1! Anggap bahwa standar deviasi populasinya 0.3\n",
        "\n",
        "Pendugaan interval adalah suatu dugaan terhadap parameter berdasarkan suatu interval.\n",
        "\n",
        "#### Untuk sampel besar (n > 30)\n",
        "rumus :\n",
        "![image.png](attachment:image.png)\n",
        "\n",
        "* Nilai duga µ adalah x = 2,6\n",
        "* Nilai dapat diduga dengan s = 0,3 (n ≥ 30)\n",
        "* Selang kepercayaan 95% (α = 5% = 0,05)\n",
        "* Nilai z = 0,025 (α/2) = 1,96\n",
        "\n",
        "![image-3.png](attachment:image-3.png)\n",
        "= 2.50 < µ < 2.70\n",
        "\n",
        "Sehingga dapat dipercaya bahwa rata-rata IP semua mahasiswa S-1 dengan selang kepercayaan 95% berada diantara 2.50 sampai 2.70"
      ]
    }
  ],
  "metadata": {
    "kernelspec": {
      "display_name": "Python 3",
      "language": "python",
      "name": "python3"
    },
    "language_info": {
      "codemirror_mode": {
        "name": "ipython",
        "version": 3
      },
      "file_extension": ".py",
      "mimetype": "text/x-python",
      "name": "python",
      "nbconvert_exporter": "python",
      "pygments_lexer": "ipython3",
      "version": "3.8.5"
    },
    "colab": {
      "name": "210411100020_Alif Dhaifullah Ramadhan_UAS.ipynb",
      "provenance": []
    }
  },
  "nbformat": 4,
  "nbformat_minor": 0
}